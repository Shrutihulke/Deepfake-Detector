{
 "cells": [
  {
   "cell_type": "code",
   "execution_count": 1,
   "id": "7d3ee59b-46fe-4edd-b065-2603f57943c6",
   "metadata": {},
   "outputs": [
    {
     "name": "stdout",
     "output_type": "stream",
     "text": [
      "Requirement already satisfied: torch in c:\\anacondad\\lib\\site-packages (2.5.1)\n",
      "Requirement already satisfied: torchvision in c:\\anacondad\\lib\\site-packages (0.20.1)\n",
      "Requirement already satisfied: filelock in c:\\anacondad\\lib\\site-packages (from torch) (3.13.1)\n",
      "Requirement already satisfied: typing-extensions>=4.8.0 in c:\\anacondad\\lib\\site-packages (from torch) (4.9.0)\n",
      "Requirement already satisfied: networkx in c:\\anacondad\\lib\\site-packages (from torch) (3.1)\n",
      "Requirement already satisfied: jinja2 in c:\\anacondad\\lib\\site-packages (from torch) (3.1.3)\n",
      "Requirement already satisfied: fsspec in c:\\anacondad\\lib\\site-packages (from torch) (2023.10.0)\n",
      "Requirement already satisfied: sympy==1.13.1 in c:\\anacondad\\lib\\site-packages (from torch) (1.13.1)\n",
      "Requirement already satisfied: mpmath<1.4,>=1.1.0 in c:\\anacondad\\lib\\site-packages (from sympy==1.13.1->torch) (1.3.0)\n",
      "Requirement already satisfied: numpy in c:\\anacondad\\lib\\site-packages (from torchvision) (1.26.4)\n",
      "Requirement already satisfied: pillow!=8.3.*,>=5.3.0 in c:\\anacondad\\lib\\site-packages (from torchvision) (10.2.0)\n",
      "Requirement already satisfied: MarkupSafe>=2.0 in c:\\anacondad\\lib\\site-packages (from jinja2->torch) (2.1.3)\n",
      "Note: you may need to restart the kernel to use updated packages.\n"
     ]
    }
   ],
   "source": [
    "pip install torch torchvision"
   ]
  },
  {
   "cell_type": "code",
   "execution_count": 2,
   "id": "70c5517e-2790-409e-b3ea-3494871e4005",
   "metadata": {},
   "outputs": [],
   "source": [
    "import torch\n",
    "import torch.nn as nn\n",
    "import torch.optim as optim\n",
    "from torch.utils.data import DataLoader, Dataset\n",
    "from torchvision import transforms, models\n",
    "from torchvision.datasets import ImageFolder\n",
    "from sklearn.model_selection import train_test_split\n",
    "import os\n",
    "from PIL import Image"
   ]
  },
  {
   "cell_type": "code",
   "execution_count": 3,
   "id": "263e737b-80f9-4eec-ab42-f150a118a277",
   "metadata": {},
   "outputs": [],
   "source": [
    "class DeepFakeDataset(Dataset):\n",
    "    def __init__(self, root_dir, transform=None):\n",
    "        self.root_dir = root_dir\n",
    "        self.transform = transform\n",
    "        self.classes = os.listdir(root_dir)\n",
    "        self.image_paths = []\n",
    "        for label, class_name in enumerate(self.classes):\n",
    "            class_dir = os.path.join(root_dir, class_name)\n",
    "            for img_name in os.listdir(class_dir):\n",
    "                self.image_paths.append((os.path.join(class_dir, img_name), label))\n",
    "\n",
    "    def __len__(self):\n",
    "        return len(self.image_paths)\n",
    "\n",
    "    def __getitem__(self, idx):\n",
    "        img_path, label = self.image_paths[idx]\n",
    "        image = Image.open(img_path).convert('RGB')\n",
    "        if self.transform:\n",
    "            image = self.transform(image)\n",
    "        return image, label"
   ]
  },
  {
   "cell_type": "code",
   "execution_count": 4,
   "id": "731cf0dd-0c16-47df-b00b-8647cc013fb9",
   "metadata": {},
   "outputs": [],
   "source": [
    "transform = transforms.Compose([\n",
    "    transforms.Resize((224, 224)),\n",
    "    transforms.ToTensor(),\n",
    "    transforms.Normalize(mean=[0.485, 0.456, 0.406], std=[0.229, 0.224, 0.225])\n",
    "])\n",
    "\n",
    "dataset = DeepFakeDataset(root_dir = r'E:\\shruti\\dataset\\DFD_dataset\\Frames', transform=transform)\n",
    "# Split dataset into train (60%), validation (20%), and test (20%)\n",
    "train_dataset, temp_dataset = train_test_split(dataset, test_size=0.4, random_state=42)\n",
    "val_dataset, test_dataset = train_test_split(temp_dataset, test_size=0.5, random_state=42)\n",
    "# Create test data loader\n",
    "test_loader = DataLoader(test_dataset, batch_size=32, shuffle=False)"
   ]
  },
  {
   "cell_type": "code",
   "execution_count": 5,
   "id": "832c26bf-6cdf-4b61-9d11-bd854cc24228",
   "metadata": {},
   "outputs": [],
   "source": [
    "import tensorflow as tf\n",
    "from tensorflow.keras.applications import ResNet50\n",
    "from tensorflow.keras.models import Model\n",
    "from tensorflow.keras.layers import Dense, GlobalAveragePooling2D, Dropout\n",
    "from tensorflow.keras.optimizers import Adam"
   ]
  },
  {
   "cell_type": "code",
   "execution_count": 14,
   "id": "432a6761-44d8-4d66-bc55-54e090f507c0",
   "metadata": {},
   "outputs": [],
   "source": [
    "# Constants\n",
    "IMAGE_SIZE = (224, 224)  # ResNet50 default input size\n",
    "BATCH_SIZE = 32\n",
    "EPOCHS = 25\n",
    "LEARNING_RATE = 0.0001\n",
    "NUM_CLASSES = 2  # Real and Fake"
   ]
  },
  {
   "cell_type": "code",
   "execution_count": 9,
   "id": "81f658ba-f9f3-4312-af41-ffd98d779595",
   "metadata": {},
   "outputs": [],
   "source": [
    "# Create train data loader\n",
    "train_loader = DataLoader(train_dataset, batch_size=32, shuffle=False)\n",
    "# Create validation data loader\n",
    "val_loader = DataLoader(val_dataset, batch_size=32, shuffle=False)"
   ]
  },
  {
   "cell_type": "code",
   "execution_count": 15,
   "id": "8f52c1fa-629b-4552-a2b9-f2be65fe233b",
   "metadata": {},
   "outputs": [],
   "source": [
    "# Load ResNet50 model\n",
    "model = models.resnet50(pretrained=True)\n",
    "\n",
    "# Freeze all layers\n",
    "for param in model.parameters():\n",
    "    param.requires_grad = False\n",
    "\n",
    "# Modify the final layer\n",
    "num_ftrs = model.fc.in_features\n",
    "model.fc = torch.nn.Sequential(\n",
    "    torch.nn.Linear(num_ftrs, 512),\n",
    "    torch.nn.ReLU(),\n",
    "    torch.nn.Dropout(0.5),\n",
    "    torch.nn.Linear(512, NUM_CLASSES)\n",
    ")\n",
    "\n",
    "# Device configuration\n",
    "device = torch.device('cuda' if torch.cuda.is_available() else 'cpu')\n",
    "model = model.to(device)"
   ]
  },
  {
   "cell_type": "code",
   "execution_count": 16,
   "id": "91e80843-9d3a-491e-b091-68d8631b9544",
   "metadata": {},
   "outputs": [],
   "source": [
    "# Loss and optimizer\n",
    "criterion = torch.nn.CrossEntropyLoss()\n",
    "optimizer = torch.optim.Adam(model.parameters(), lr=LEARNING_RATE)"
   ]
  },
  {
   "cell_type": "code",
   "execution_count": 17,
   "id": "51f16111-c6bf-41b2-8b4a-82559456e716",
   "metadata": {},
   "outputs": [
    {
     "name": "stdout",
     "output_type": "stream",
     "text": [
      "Epoch [1/25], Train Loss: 0.5977, Train Acc: 68.90%, Val Loss: 0.5086, Val Acc: 73.58%\n",
      "Epoch [2/25], Train Loss: 0.5037, Train Acc: 75.25%, Val Loss: 0.4618, Val Acc: 76.10%\n",
      "Epoch [3/25], Train Loss: 0.4634, Train Acc: 76.66%, Val Loss: 0.4360, Val Acc: 79.09%\n",
      "Epoch [4/25], Train Loss: 0.4496, Train Acc: 77.71%, Val Loss: 0.4260, Val Acc: 79.56%\n",
      "Epoch [5/25], Train Loss: 0.4437, Train Acc: 79.29%, Val Loss: 0.4169, Val Acc: 80.66%\n",
      "Epoch [6/25], Train Loss: 0.4305, Train Acc: 80.44%, Val Loss: 0.4105, Val Acc: 81.29%\n",
      "Epoch [7/25], Train Loss: 0.4244, Train Acc: 79.50%, Val Loss: 0.4121, Val Acc: 80.03%\n",
      "Epoch [8/25], Train Loss: 0.4138, Train Acc: 80.44%, Val Loss: 0.4073, Val Acc: 80.66%\n",
      "Epoch [9/25], Train Loss: 0.4008, Train Acc: 81.38%, Val Loss: 0.4071, Val Acc: 80.66%\n",
      "Epoch [10/25], Train Loss: 0.4119, Train Acc: 80.13%, Val Loss: 0.3995, Val Acc: 80.82%\n",
      "Epoch [11/25], Train Loss: 0.4048, Train Acc: 81.96%, Val Loss: 0.4015, Val Acc: 80.19%\n",
      "Epoch [12/25], Train Loss: 0.4025, Train Acc: 81.38%, Val Loss: 0.4019, Val Acc: 80.50%\n",
      "Epoch [13/25], Train Loss: 0.3962, Train Acc: 81.75%, Val Loss: 0.4015, Val Acc: 80.66%\n",
      "Epoch [14/25], Train Loss: 0.3917, Train Acc: 81.91%, Val Loss: 0.4021, Val Acc: 80.82%\n",
      "Epoch [15/25], Train Loss: 0.3954, Train Acc: 82.28%, Val Loss: 0.4012, Val Acc: 80.66%\n",
      "Epoch [16/25], Train Loss: 0.3853, Train Acc: 82.01%, Val Loss: 0.4013, Val Acc: 80.66%\n",
      "Epoch [17/25], Train Loss: 0.3775, Train Acc: 82.85%, Val Loss: 0.3972, Val Acc: 80.50%\n",
      "Epoch [18/25], Train Loss: 0.3783, Train Acc: 83.11%, Val Loss: 0.3982, Val Acc: 80.82%\n",
      "Epoch [19/25], Train Loss: 0.3794, Train Acc: 82.07%, Val Loss: 0.4005, Val Acc: 80.66%\n",
      "Epoch [20/25], Train Loss: 0.3702, Train Acc: 83.27%, Val Loss: 0.3949, Val Acc: 80.82%\n",
      "Epoch [21/25], Train Loss: 0.3730, Train Acc: 82.80%, Val Loss: 0.4003, Val Acc: 80.66%\n",
      "Epoch [22/25], Train Loss: 0.3615, Train Acc: 83.48%, Val Loss: 0.4043, Val Acc: 80.97%\n",
      "Epoch [23/25], Train Loss: 0.3632, Train Acc: 83.43%, Val Loss: 0.4052, Val Acc: 80.97%\n",
      "Epoch [24/25], Train Loss: 0.3653, Train Acc: 83.95%, Val Loss: 0.3959, Val Acc: 80.82%\n",
      "Epoch [25/25], Train Loss: 0.3648, Train Acc: 83.38%, Val Loss: 0.3980, Val Acc: 80.66%\n"
     ]
    }
   ],
   "source": [
    "# Training loop\n",
    "for epoch in range(EPOCHS):\n",
    "    model.train()\n",
    "    running_loss = 0.0\n",
    "    correct = 0\n",
    "    total = 0\n",
    "    \n",
    "    for images, labels in train_loader:\n",
    "        images = images.to(device)\n",
    "        labels = labels.to(device)\n",
    "        \n",
    "        # Forward pass\n",
    "        outputs = model(images)\n",
    "        loss = criterion(outputs, labels)\n",
    "        \n",
    "        # Backward and optimize\n",
    "        optimizer.zero_grad()\n",
    "        loss.backward()\n",
    "        optimizer.step()\n",
    "        \n",
    "        # Statistics\n",
    "        running_loss += loss.item()\n",
    "        _, predicted = torch.max(outputs.data, 1)\n",
    "        total += labels.size(0)\n",
    "        correct += (predicted == labels).sum().item()\n",
    "    \n",
    "    train_loss = running_loss / len(train_loader)\n",
    "    train_acc = 100 * correct / total\n",
    "    \n",
    "    # Validation\n",
    "    model.eval()\n",
    "    val_loss = 0.0\n",
    "    correct = 0\n",
    "    total = 0\n",
    "    \n",
    "    with torch.no_grad():\n",
    "        for images, labels in val_loader:\n",
    "            images = images.to(device)\n",
    "            labels = labels.to(device)\n",
    "            \n",
    "            outputs = model(images)\n",
    "            loss = criterion(outputs, labels)\n",
    "            \n",
    "            val_loss += loss.item()\n",
    "            _, predicted = torch.max(outputs.data, 1)\n",
    "            total += labels.size(0)\n",
    "            correct += (predicted == labels).sum().item()\n",
    "    \n",
    "    val_loss = val_loss / len(val_loader)\n",
    "    val_acc = 100 * correct / total\n",
    "    \n",
    "    print(f'Epoch [{epoch+1}/{EPOCHS}], '\n",
    "          f'Train Loss: {train_loss:.4f}, Train Acc: {train_acc:.2f}%, '\n",
    "          f'Val Loss: {val_loss:.4f}, Val Acc: {val_acc:.2f}%')"
   ]
  },
  {
   "cell_type": "code",
   "execution_count": 26,
   "id": "07a5a149-ea3e-44bd-86cd-d4e211d96e09",
   "metadata": {},
   "outputs": [],
   "source": [
    "torch.save(model.state_dict(), 'deepfake_resnet50.pth')"
   ]
  }
 ],
 "metadata": {
  "kernelspec": {
   "display_name": "Python 3 (ipykernel)",
   "language": "python",
   "name": "python3"
  },
  "language_info": {
   "codemirror_mode": {
    "name": "ipython",
    "version": 3
   },
   "file_extension": ".py",
   "mimetype": "text/x-python",
   "name": "python",
   "nbconvert_exporter": "python",
   "pygments_lexer": "ipython3",
   "version": "3.11.7"
  }
 },
 "nbformat": 4,
 "nbformat_minor": 5
}
